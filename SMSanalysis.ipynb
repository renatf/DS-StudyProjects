{
    "nbformat_minor": 1, 
    "cells": [
        {
            "source": "import pandas as pd\nimport numpy as np\n\nimport sys\nimport types\nfrom botocore.client import Config\nimport ibm_boto3\n\ndef __iter__(self): return 0\n\n# @hidden_cell\n# The following code accesses a file in your IBM Cloud Object Storage. It includes your credentials.\n# You might want to remove those credentials before you share your notebook.\nclient_57c229a70a5a44f79fbeb0cee7d84763 = ibm_boto3.client(service_name='s3',\n    ibm_api_key_id='WqDsAWbk7iOmDaRHoQCIt_n6oXZsk4tz1fyVwT8JgX9t',\n    ibm_auth_endpoint=\"https://iam.ng.bluemix.net/oidc/token\",\n    config=Config(signature_version='oauth'),\n    endpoint_url='https://s3-api.us-geo.objectstorage.service.networklayer.com')\n\nbody = client_57c229a70a5a44f79fbeb0cee7d84763.get_object(Bucket='smsanalysis-donotdelete-pr-nxitemdarzoytd',Key='sms_20180524_2.csv')['Body']\n# add missing __iter__ method, so pandas accepts body as file-like object\nif not hasattr(body, \"__iter__\"): body.__iter__ = types.MethodType( __iter__, body )\n\nsms_raw = pd.read_csv(body)\n# print(sms_raw.head())\n\nsms_raw.insert(loc=len(sms_raw.columns.tolist()),value='', column='TransactionType', allow_duplicates=False)\nsms_raw.insert(loc=len(sms_raw.columns.tolist()),value=0, column='Amount', allow_duplicates=False)\n# sms_raw.columns.tolist()\n# sms_raw['Amount'].head()\nsms_data = sms_raw[['Date','Time','Message','TransactionType','Amount']]\n\nsms_data.head()", 
            "cell_type": "code", 
            "metadata": {}, 
            "outputs": [
                {
                    "output_type": "execute_result", 
                    "data": {
                        "text/html": "<div>\n<style scoped>\n    .dataframe tbody tr th:only-of-type {\n        vertical-align: middle;\n    }\n\n    .dataframe tbody tr th {\n        vertical-align: top;\n    }\n\n    .dataframe thead th {\n        text-align: right;\n    }\n</style>\n<table border=\"1\" class=\"dataframe\">\n  <thead>\n    <tr style=\"text-align: right;\">\n      <th></th>\n      <th>Date</th>\n      <th>Time</th>\n      <th>Message</th>\n      <th>TransactionType</th>\n      <th>Amount</th>\n    </tr>\n  </thead>\n  <tbody>\n    <tr>\n      <th>0</th>\n      <td>2017-02-02</td>\n      <td>17:21:36</td>\n      <td>From HSBC: 02FEB17 ATM Cash Withdrawal from 20...</td>\n      <td></td>\n      <td>0</td>\n    </tr>\n    <tr>\n      <th>1</th>\n      <td>2017-02-02</td>\n      <td>19:32:58</td>\n      <td>From HSBC: 02FEB17 LOKANTA RESTAURANT Purchase...</td>\n      <td></td>\n      <td>0</td>\n    </tr>\n    <tr>\n      <th>2</th>\n      <td>2017-02-04</td>\n      <td>17:31:21</td>\n      <td>From HSBC: 05FEB17 Purchase Transaction from 2...</td>\n      <td></td>\n      <td>0</td>\n    </tr>\n    <tr>\n      <th>3</th>\n      <td>2017-02-06</td>\n      <td>18:10:50</td>\n      <td>From HSBC: 06FEB17 Purchase Transaction from 2...</td>\n      <td></td>\n      <td>0</td>\n    </tr>\n    <tr>\n      <th>4</th>\n      <td>2017-02-08</td>\n      <td>16:33:01</td>\n      <td>From HSBC: 08FEB17 ATM Cash Withdrawal from 20...</td>\n      <td></td>\n      <td>0</td>\n    </tr>\n  </tbody>\n</table>\n</div>", 
                        "text/plain": "         Date      Time                                            Message  \\\n0  2017-02-02  17:21:36  From HSBC: 02FEB17 ATM Cash Withdrawal from 20...   \n1  2017-02-02  19:32:58  From HSBC: 02FEB17 LOKANTA RESTAURANT Purchase...   \n2  2017-02-04  17:31:21  From HSBC: 05FEB17 Purchase Transaction from 2...   \n3  2017-02-06  18:10:50  From HSBC: 06FEB17 Purchase Transaction from 2...   \n4  2017-02-08  16:33:01  From HSBC: 08FEB17 ATM Cash Withdrawal from 20...   \n\n  TransactionType  Amount  \n0                       0  \n1                       0  \n2                       0  \n3                       0  \n4                       0  "
                    }, 
                    "execution_count": 25, 
                    "metadata": {}
                }
            ], 
            "execution_count": 25
        }, 
        {
            "source": "", 
            "cell_type": "code", 
            "metadata": {}, 
            "outputs": [], 
            "execution_count": null
        }
    ], 
    "metadata": {
        "kernelspec": {
            "display_name": "Python 3.5", 
            "name": "python3", 
            "language": "python"
        }, 
        "language_info": {
            "mimetype": "text/x-python", 
            "nbconvert_exporter": "python", 
            "version": "3.5.4", 
            "name": "python", 
            "file_extension": ".py", 
            "pygments_lexer": "ipython3", 
            "codemirror_mode": {
                "version": 3, 
                "name": "ipython"
            }
        }
    }, 
    "nbformat": 4
}
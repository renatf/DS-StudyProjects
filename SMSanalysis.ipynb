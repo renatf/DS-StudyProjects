{
    "nbformat_minor": 1, 
    "cells": [
        {
            "source": "import pandas as pd\nimport numpy as np\n\nimport sys\nimport types\nfrom botocore.client import Config\nimport ibm_boto3\n\ndef __iter__(self): return 0\n\n# @hidden_cell\n# The following code accesses a file in your IBM Cloud Object Storage. It includes your credentials.\n# You might want to remove those credentials before you share your notebook.\nclient_57c229a70a5a44f79fbeb0cee7d84763 = ibm_boto3.client(service_name='s3',\n    ibm_api_key_id='WqDsAWbk7iOmDaRHoQCIt_n6oXZsk4tz1fyVwT8JgX9t',\n    ibm_auth_endpoint=\"https://iam.ng.bluemix.net/oidc/token\",\n    config=Config(signature_version='oauth'),\n    endpoint_url='https://s3-api.us-geo.objectstorage.service.networklayer.com')\n\nbody = client_57c229a70a5a44f79fbeb0cee7d84763.get_object(Bucket='smsanalysis-donotdelete-pr-nxitemdarzoytd',Key='sms_20180524_2.csv')['Body']\n# add missing __iter__ method, so pandas accepts body as file-like object\nif not hasattr(body, \"__iter__\"): body.__iter__ = types.MethodType( __iter__, body )\n\nsms_raw = pd.read_csv(body)\nsms_raw.head()\n\nsms_raw.insert(loc=len(sms_raw.columns.tolist()),value='', column='TransactionType', allow_duplicates=False)\nsms_raw.insert(loc=len(sms_raw.columns.tolist()),value=0, column='Amount', allow_duplicates=False)\nsms_raw.columns.tolist()", 
            "cell_type": "code", 
            "metadata": {}, 
            "outputs": [
                {
                    "output_type": "execute_result", 
                    "data": {
                        "text/plain": "['Date',\n 'Time',\n 'Type',\n 'Number',\n 'Name',\n 'Message',\n 'TransactionType',\n 'Amount']"
                    }, 
                    "execution_count": 16, 
                    "metadata": {}
                }
            ], 
            "execution_count": 16
        }, 
        {
            "source": "", 
            "cell_type": "code", 
            "metadata": {}, 
            "outputs": [], 
            "execution_count": null
        }
    ], 
    "metadata": {
        "kernelspec": {
            "display_name": "Python 3.5", 
            "name": "python3", 
            "language": "python"
        }, 
        "language_info": {
            "mimetype": "text/x-python", 
            "nbconvert_exporter": "python", 
            "version": "3.5.4", 
            "name": "python", 
            "file_extension": ".py", 
            "pygments_lexer": "ipython3", 
            "codemirror_mode": {
                "version": 3, 
                "name": "ipython"
            }
        }
    }, 
    "nbformat": 4
}